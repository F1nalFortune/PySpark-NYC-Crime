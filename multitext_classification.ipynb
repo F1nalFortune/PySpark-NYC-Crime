{
  "nbformat": 4,
  "nbformat_minor": 0,
  "metadata": {
    "colab": {
      "name": "multitext_classification.ipynb",
      "provenance": [],
      "machine_shape": "hm"
    },
    "accelerator": "GPU",
    "kernelspec": {
      "name": "python3",
      "display_name": "Python 3"
    }
  },
  "cells": [
    {
      "cell_type": "code",
      "metadata": {
        "id": "9Nkj0JpQaDhV",
        "outputId": "c6e43496-67ef-4232-c624-e143d43f1de6",
        "colab": {
          "base_uri": "https://localhost:8080/"
        }
      },
      "source": [
        "!pip install spark-nlp==2.7.1 pyspark==2.4.7 --quiet\r\n",
        "from google.colab import drive\r\n",
        "drive.mount('/content/drive')"
      ],
      "execution_count": 3,
      "outputs": [
        {
          "output_type": "stream",
          "text": [
            "\u001b[K     |████████████████████████████████| 143kB 12.7MB/s \n",
            "\u001b[K     |████████████████████████████████| 217.9MB 33kB/s \n",
            "\u001b[K     |████████████████████████████████| 204kB 62.4MB/s \n",
            "\u001b[?25h  Building wheel for pyspark (setup.py) ... \u001b[?25l\u001b[?25hdone\n",
            "Mounted at /content/drive\n"
          ],
          "name": "stdout"
        }
      ]
    },
    {
      "cell_type": "code",
      "metadata": {
        "id": "OsVzPcxhacv4",
        "outputId": "a6c74ce6-2b68-48ff-a6fd-3d288ee7723e",
        "colab": {
          "base_uri": "https://localhost:8080/"
        }
      },
      "source": [
        "import pandas as pd\r\n",
        "import sparknlp\r\n",
        "spark = sparknlp.start(gpu=True) \r\n",
        "from sparknlp.base import *\r\n",
        "from sparknlp.annotator import *\r\n",
        "from pyspark.ml import Pipeline\r\n",
        "import pandas as pd\r\n",
        "print(\"Spark NLP version\", sparknlp.version())\r\n",
        "print(\"Apache Spark version:\", spark.version)\r\n",
        "from pyspark.sql.functions import col, concat_ws, hour,max as max_, min as min_"
      ],
      "execution_count": 4,
      "outputs": [
        {
          "output_type": "stream",
          "text": [
            "Spark NLP version 2.7.1\n",
            "Apache Spark version: 2.4.7\n"
          ],
          "name": "stdout"
        }
      ]
    },
    {
      "cell_type": "code",
      "metadata": {
        "id": "_8OAXRPSa1iF"
      },
      "source": [
        ""
      ],
      "execution_count": null,
      "outputs": []
    }
  ]
}