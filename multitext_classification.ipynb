{
  "nbformat": 4,
  "nbformat_minor": 0,
  "metadata": {
    "colab": {
      "name": "multitext_classification.ipynb",
      "provenance": [],
      "machine_shape": "hm"
    },
    "accelerator": "GPU",
    "kernelspec": {
      "name": "python3",
      "display_name": "Python 3"
    }
  },
  "cells": [
    {
      "cell_type": "code",
      "metadata": {
        "colab": {
          "base_uri": "https://localhost:8080/"
        },
        "id": "9Nkj0JpQaDhV",
        "outputId": "c6e43496-67ef-4232-c624-e143d43f1de6"
      },
      "source": [
        "!pip install spark-nlp==2.7.1 pyspark==2.4.7 --quiet\r\n",
        "from google.colab import drive\r\n",
        "drive.mount('/content/drive')"
      ],
      "execution_count": 3,
      "outputs": [
        {
          "output_type": "stream",
          "text": [
            "\u001b[K     |████████████████████████████████| 143kB 12.7MB/s \n",
            "\u001b[K     |████████████████████████████████| 217.9MB 33kB/s \n",
            "\u001b[K     |████████████████████████████████| 204kB 62.4MB/s \n",
            "\u001b[?25h  Building wheel for pyspark (setup.py) ... \u001b[?25l\u001b[?25hdone\n",
            "Mounted at /content/drive\n"
          ],
          "name": "stdout"
        }
      ]
    },
    {
      "cell_type": "code",
      "metadata": {
        "colab": {
          "base_uri": "https://localhost:8080/"
        },
        "id": "OsVzPcxhacv4",
        "outputId": "a6c74ce6-2b68-48ff-a6fd-3d288ee7723e"
      },
      "source": [
        "import pandas as pd\r\n",
        "import sparknlp\r\n",
        "spark = sparknlp.start(gpu=True) \r\n",
        "from sparknlp.base import *\r\n",
        "from sparknlp.annotator import *\r\n",
        "from pyspark.ml import Pipeline\r\n",
        "import pandas as pd\r\n",
        "print(\"Spark NLP version\", sparknlp.version())\r\n",
        "print(\"Apache Spark version:\", spark.version)\r\n",
        "from pyspark.sql.functions import col, concat_ws, hour,max as max_, min as min_"
      ],
      "execution_count": 4,
      "outputs": [
        {
          "output_type": "stream",
          "text": [
            "Spark NLP version 2.7.1\n",
            "Apache Spark version: 2.4.7\n"
          ],
          "name": "stdout"
        }
      ]
    },
    {
      "cell_type": "code",
      "metadata": {
        "id": "_8OAXRPSa1iF"
      },
      "source": [
        "TRAIN_PATH = 'drive/My Drive/nyc_crime_project/nyc_crime_data.csv'\r\n",
        "trainDataset = spark.read \\\r\n",
        "      .option(\"header\", True) \\\r\n",
        "      .csv(TRAIN_PATH)\r\n",
        "\r\n",
        "trainDataset = trainDataset.dropna(subset=['CRM_ATPT_CPTD_CD', 'OFNS_DESC'])\r\n",
        "trainDataset.drop_duplicates()\r\n",
        "\r\n",
        "trainDataset = trainDataset.withColumnRenamed(\"Latitude\",\"Long\")\r\n",
        "trainDataset = trainDataset.withColumnRenamed(\"Longitude\",\"Lat\")\r\n",
        "trainDataset = trainDataset.withColumnRenamed(\"CMPLNT_FR_DT\",\"Date\")\r\n",
        "\r\n",
        "trainDataset = trainDataset.dropna(subset=['CRM_ATPT_CPTD_CD', 'OFNS_DESC'])\r\n",
        "trainDataset.drop_duplicates()\r\n",
        "\r\n",
        "trainDataset = trainDataset.withColumnRenamed(\"Latitude\",\"Long\")\r\n",
        "trainDataset = trainDataset.withColumnRenamed(\"Longitude\",\"Lat\")\r\n",
        "trainDataset = trainDataset.withColumnRenamed(\"CMPLNT_FR_DT\",\"Date\")\r\n",
        "\r\n",
        "trainDataset = trainDataset.withColumn(\"Hour\", concat_ws(' ',trainDataset.Date,trainDataset.CMPLNT_FR_TM).cast('timestamp'))\r\n",
        "trainDataset=trainDataset.withColumn(\"Hour\", hour(col(\"Hour\")))"
      ],
      "execution_count": 6,
      "outputs": []
    },
    {
      "cell_type": "code",
      "metadata": {
        "id": "74XlUwBCbBEo",
        "outputId": "a8a3dd1d-9369-4031-bb73-19d3c99d410c",
        "colab": {
          "base_uri": "https://localhost:8080/"
        }
      },
      "source": [
        "trainDataset.printSchema()"
      ],
      "execution_count": 7,
      "outputs": [
        {
          "output_type": "stream",
          "text": [
            "root\n",
            " |-- _c0: string (nullable = true)\n",
            " |-- CMPLNT_NUM: string (nullable = true)\n",
            " |-- Date: string (nullable = true)\n",
            " |-- CMPLNT_FR_TM: string (nullable = true)\n",
            " |-- CMPLNT_TO_DT: string (nullable = true)\n",
            " |-- CMPLNT_TO_TM: string (nullable = true)\n",
            " |-- ADDR_PCT_CD: string (nullable = true)\n",
            " |-- RPT_DT: string (nullable = true)\n",
            " |-- KY_CD: string (nullable = true)\n",
            " |-- OFNS_DESC: string (nullable = true)\n",
            " |-- PD_CD: string (nullable = true)\n",
            " |-- PD_DESC: string (nullable = true)\n",
            " |-- CRM_ATPT_CPTD_CD: string (nullable = true)\n",
            " |-- LAW_CAT_CD: string (nullable = true)\n",
            " |-- BORO_NM: string (nullable = true)\n",
            " |-- LOC_OF_OCCUR_DESC: string (nullable = true)\n",
            " |-- PREM_TYP_DESC: string (nullable = true)\n",
            " |-- JURIS_DESC: string (nullable = true)\n",
            " |-- JURISDICTION_CODE: string (nullable = true)\n",
            " |-- PARKS_NM: string (nullable = true)\n",
            " |-- HADEVELOPT: string (nullable = true)\n",
            " |-- HOUSING_PSA: string (nullable = true)\n",
            " |-- X_COORD_CD: string (nullable = true)\n",
            " |-- Y_COORD_CD: string (nullable = true)\n",
            " |-- SUSP_AGE_GROUP: string (nullable = true)\n",
            " |-- SUSP_RACE: string (nullable = true)\n",
            " |-- SUSP_SEX: string (nullable = true)\n",
            " |-- TRANSIT_DISTRICT: string (nullable = true)\n",
            " |-- Long: string (nullable = true)\n",
            " |-- Lat: string (nullable = true)\n",
            " |-- Lat_Lon: string (nullable = true)\n",
            " |-- PATROL_BORO: string (nullable = true)\n",
            " |-- STATION_NAME: string (nullable = true)\n",
            " |-- VIC_AGE_GROUP: string (nullable = true)\n",
            " |-- VIC_RACE: string (nullable = true)\n",
            " |-- VIC_SEX: string (nullable = true)\n",
            " |-- geom: string (nullable = true)\n",
            " |-- in_ny: string (nullable = true)\n",
            " |-- New_X_Coor: string (nullable = true)\n",
            " |-- New_Y_Coor: string (nullable = true)\n",
            " |-- Hour: integer (nullable = true)\n",
            "\n"
          ],
          "name": "stdout"
        }
      ]
    },
    {
      "cell_type": "code",
      "metadata": {
        "id": "-B57TZrSbJCM"
      },
      "source": [
        ""
      ],
      "execution_count": null,
      "outputs": []
    }
  ]
}