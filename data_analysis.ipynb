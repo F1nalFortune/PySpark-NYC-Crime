{
  "nbformat": 4,
  "nbformat_minor": 0,
  "metadata": {
    "kernelspec": {
      "display_name": "Python [conda env:recommender] *",
      "language": "python",
      "name": "conda-env-recommender-py"
    },
    "language_info": {
      "codemirror_mode": {
        "name": "ipython",
        "version": 3
      },
      "file_extension": ".py",
      "mimetype": "text/x-python",
      "name": "python",
      "nbconvert_exporter": "python",
      "pygments_lexer": "ipython3",
      "version": "3.9.1"
    },
    "colab": {
      "name": "data_analysis.ipynb",
      "provenance": [],
      "machine_shape": "hm"
    },
    "accelerator": "GPU"
  },
  "cells": [
    {
      "cell_type": "code",
      "metadata": {
        "id": "yZxU2QPQQDun"
      },
      "source": [
        "### Imports"
      ],
      "execution_count": 2,
      "outputs": []
    },
    {
      "cell_type": "code",
      "metadata": {
        "id": "h2BS31eqP7SK",
        "outputId": "ab22ceb8-3b21-42a2-bcdd-add5f676dd32",
        "colab": {
          "base_uri": "https://localhost:8080/"
        }
      },
      "source": [
        "import pandas as pd\r\n",
        "pd.set_option('display.max_columns', 500)\r\n",
        "\r\n",
        "!pip install geopandas\r\n",
        "import geopandas as gpd\r\n",
        "import seaborn as sns\r\n",
        "from matplotlib import pyplot as plt\r\n",
        "import numpy as np\r\n",
        "from google.colab import drive\r\n",
        "drive.mount('/content/drive')\r\n",
        "from tqdm._tqdm_notebook import tqdm_notebook\r\n",
        "tqdm_notebook.pandas()"
      ],
      "execution_count": 1,
      "outputs": [
        {
          "output_type": "stream",
          "text": [
            "Collecting geopandas\n",
            "\u001b[?25l  Downloading https://files.pythonhosted.org/packages/f7/a4/e66aafbefcbb717813bf3a355c8c4fc3ed04ea1dd7feb2920f2f4f868921/geopandas-0.8.1-py2.py3-none-any.whl (962kB)\n",
            "\r\u001b[K     |▍                               | 10kB 25.2MB/s eta 0:00:01\r\u001b[K     |▊                               | 20kB 16.2MB/s eta 0:00:01\r\u001b[K     |█                               | 30kB 13.7MB/s eta 0:00:01\r\u001b[K     |█▍                              | 40kB 12.7MB/s eta 0:00:01\r\u001b[K     |█▊                              | 51kB 9.0MB/s eta 0:00:01\r\u001b[K     |██                              | 61kB 8.3MB/s eta 0:00:01\r\u001b[K     |██▍                             | 71kB 9.5MB/s eta 0:00:01\r\u001b[K     |██▊                             | 81kB 10.5MB/s eta 0:00:01\r\u001b[K     |███                             | 92kB 9.4MB/s eta 0:00:01\r\u001b[K     |███▍                            | 102kB 8.8MB/s eta 0:00:01\r\u001b[K     |███▊                            | 112kB 8.8MB/s eta 0:00:01\r\u001b[K     |████                            | 122kB 8.8MB/s eta 0:00:01\r\u001b[K     |████▍                           | 133kB 8.8MB/s eta 0:00:01\r\u001b[K     |████▊                           | 143kB 8.8MB/s eta 0:00:01\r\u001b[K     |█████                           | 153kB 8.8MB/s eta 0:00:01\r\u001b[K     |█████▌                          | 163kB 8.8MB/s eta 0:00:01\r\u001b[K     |█████▉                          | 174kB 8.8MB/s eta 0:00:01\r\u001b[K     |██████▏                         | 184kB 8.8MB/s eta 0:00:01\r\u001b[K     |██████▌                         | 194kB 8.8MB/s eta 0:00:01\r\u001b[K     |██████▉                         | 204kB 8.8MB/s eta 0:00:01\r\u001b[K     |███████▏                        | 215kB 8.8MB/s eta 0:00:01\r\u001b[K     |███████▌                        | 225kB 8.8MB/s eta 0:00:01\r\u001b[K     |███████▉                        | 235kB 8.8MB/s eta 0:00:01\r\u001b[K     |████████▏                       | 245kB 8.8MB/s eta 0:00:01\r\u001b[K     |████████▌                       | 256kB 8.8MB/s eta 0:00:01\r\u001b[K     |████████▉                       | 266kB 8.8MB/s eta 0:00:01\r\u001b[K     |█████████▏                      | 276kB 8.8MB/s eta 0:00:01\r\u001b[K     |█████████▌                      | 286kB 8.8MB/s eta 0:00:01\r\u001b[K     |█████████▉                      | 296kB 8.8MB/s eta 0:00:01\r\u001b[K     |██████████▏                     | 307kB 8.8MB/s eta 0:00:01\r\u001b[K     |██████████▌                     | 317kB 8.8MB/s eta 0:00:01\r\u001b[K     |███████████                     | 327kB 8.8MB/s eta 0:00:01\r\u001b[K     |███████████▎                    | 337kB 8.8MB/s eta 0:00:01\r\u001b[K     |███████████▋                    | 348kB 8.8MB/s eta 0:00:01\r\u001b[K     |████████████                    | 358kB 8.8MB/s eta 0:00:01\r\u001b[K     |████████████▎                   | 368kB 8.8MB/s eta 0:00:01\r\u001b[K     |████████████▋                   | 378kB 8.8MB/s eta 0:00:01\r\u001b[K     |█████████████                   | 389kB 8.8MB/s eta 0:00:01\r\u001b[K     |█████████████▎                  | 399kB 8.8MB/s eta 0:00:01\r\u001b[K     |█████████████▋                  | 409kB 8.8MB/s eta 0:00:01\r\u001b[K     |██████████████                  | 419kB 8.8MB/s eta 0:00:01\r\u001b[K     |██████████████▎                 | 430kB 8.8MB/s eta 0:00:01\r\u001b[K     |██████████████▋                 | 440kB 8.8MB/s eta 0:00:01\r\u001b[K     |███████████████                 | 450kB 8.8MB/s eta 0:00:01\r\u001b[K     |███████████████▎                | 460kB 8.8MB/s eta 0:00:01\r\u001b[K     |███████████████▋                | 471kB 8.8MB/s eta 0:00:01\r\u001b[K     |████████████████                | 481kB 8.8MB/s eta 0:00:01\r\u001b[K     |████████████████▍               | 491kB 8.8MB/s eta 0:00:01\r\u001b[K     |████████████████▊               | 501kB 8.8MB/s eta 0:00:01\r\u001b[K     |█████████████████               | 512kB 8.8MB/s eta 0:00:01\r\u001b[K     |█████████████████▍              | 522kB 8.8MB/s eta 0:00:01\r\u001b[K     |█████████████████▊              | 532kB 8.8MB/s eta 0:00:01\r\u001b[K     |██████████████████              | 542kB 8.8MB/s eta 0:00:01\r\u001b[K     |██████████████████▍             | 552kB 8.8MB/s eta 0:00:01\r\u001b[K     |██████████████████▊             | 563kB 8.8MB/s eta 0:00:01\r\u001b[K     |███████████████████             | 573kB 8.8MB/s eta 0:00:01\r\u001b[K     |███████████████████▍            | 583kB 8.8MB/s eta 0:00:01\r\u001b[K     |███████████████████▊            | 593kB 8.8MB/s eta 0:00:01\r\u001b[K     |████████████████████            | 604kB 8.8MB/s eta 0:00:01\r\u001b[K     |████████████████████▍           | 614kB 8.8MB/s eta 0:00:01\r\u001b[K     |████████████████████▊           | 624kB 8.8MB/s eta 0:00:01\r\u001b[K     |█████████████████████           | 634kB 8.8MB/s eta 0:00:01\r\u001b[K     |█████████████████████▍          | 645kB 8.8MB/s eta 0:00:01\r\u001b[K     |█████████████████████▉          | 655kB 8.8MB/s eta 0:00:01\r\u001b[K     |██████████████████████▏         | 665kB 8.8MB/s eta 0:00:01\r\u001b[K     |██████████████████████▌         | 675kB 8.8MB/s eta 0:00:01\r\u001b[K     |██████████████████████▉         | 686kB 8.8MB/s eta 0:00:01\r\u001b[K     |███████████████████████▏        | 696kB 8.8MB/s eta 0:00:01\r\u001b[K     |███████████████████████▌        | 706kB 8.8MB/s eta 0:00:01\r\u001b[K     |███████████████████████▉        | 716kB 8.8MB/s eta 0:00:01\r\u001b[K     |████████████████████████▏       | 727kB 8.8MB/s eta 0:00:01\r\u001b[K     |████████████████████████▌       | 737kB 8.8MB/s eta 0:00:01\r\u001b[K     |████████████████████████▉       | 747kB 8.8MB/s eta 0:00:01\r\u001b[K     |█████████████████████████▏      | 757kB 8.8MB/s eta 0:00:01\r\u001b[K     |█████████████████████████▌      | 768kB 8.8MB/s eta 0:00:01\r\u001b[K     |█████████████████████████▉      | 778kB 8.8MB/s eta 0:00:01\r\u001b[K     |██████████████████████████▏     | 788kB 8.8MB/s eta 0:00:01\r\u001b[K     |██████████████████████████▌     | 798kB 8.8MB/s eta 0:00:01\r\u001b[K     |██████████████████████████▉     | 808kB 8.8MB/s eta 0:00:01\r\u001b[K     |███████████████████████████▎    | 819kB 8.8MB/s eta 0:00:01\r\u001b[K     |███████████████████████████▋    | 829kB 8.8MB/s eta 0:00:01\r\u001b[K     |████████████████████████████    | 839kB 8.8MB/s eta 0:00:01\r\u001b[K     |████████████████████████████▎   | 849kB 8.8MB/s eta 0:00:01\r\u001b[K     |████████████████████████████▋   | 860kB 8.8MB/s eta 0:00:01\r\u001b[K     |█████████████████████████████   | 870kB 8.8MB/s eta 0:00:01\r\u001b[K     |█████████████████████████████▎  | 880kB 8.8MB/s eta 0:00:01\r\u001b[K     |█████████████████████████████▋  | 890kB 8.8MB/s eta 0:00:01\r\u001b[K     |██████████████████████████████  | 901kB 8.8MB/s eta 0:00:01\r\u001b[K     |██████████████████████████████▎ | 911kB 8.8MB/s eta 0:00:01\r\u001b[K     |██████████████████████████████▋ | 921kB 8.8MB/s eta 0:00:01\r\u001b[K     |███████████████████████████████ | 931kB 8.8MB/s eta 0:00:01\r\u001b[K     |███████████████████████████████▎| 942kB 8.8MB/s eta 0:00:01\r\u001b[K     |███████████████████████████████▋| 952kB 8.8MB/s eta 0:00:01\r\u001b[K     |████████████████████████████████| 962kB 8.8MB/s eta 0:00:01\r\u001b[K     |████████████████████████████████| 972kB 8.8MB/s \n",
            "\u001b[?25hRequirement already satisfied: pandas>=0.23.0 in /usr/local/lib/python3.6/dist-packages (from geopandas) (1.1.5)\n",
            "Collecting fiona\n",
            "\u001b[?25l  Downloading https://files.pythonhosted.org/packages/37/94/4910fd55246c1d963727b03885ead6ef1cd3748a465f7b0239ab25dfc9a3/Fiona-1.8.18-cp36-cp36m-manylinux1_x86_64.whl (14.8MB)\n",
            "\u001b[K     |████████████████████████████████| 14.8MB 374kB/s \n",
            "\u001b[?25hRequirement already satisfied: shapely in /usr/local/lib/python3.6/dist-packages (from geopandas) (1.7.1)\n",
            "Collecting pyproj>=2.2.0\n",
            "\u001b[?25l  Downloading https://files.pythonhosted.org/packages/e4/ab/280e80a67cfc109d15428c0ec56391fc03a65857b7727cf4e6e6f99a4204/pyproj-3.0.0.post1-cp36-cp36m-manylinux2010_x86_64.whl (6.4MB)\n",
            "\u001b[K     |████████████████████████████████| 6.5MB 72.8MB/s \n",
            "\u001b[?25hRequirement already satisfied: python-dateutil>=2.7.3 in /usr/local/lib/python3.6/dist-packages (from pandas>=0.23.0->geopandas) (2.8.1)\n",
            "Requirement already satisfied: numpy>=1.15.4 in /usr/local/lib/python3.6/dist-packages (from pandas>=0.23.0->geopandas) (1.19.5)\n",
            "Requirement already satisfied: pytz>=2017.2 in /usr/local/lib/python3.6/dist-packages (from pandas>=0.23.0->geopandas) (2018.9)\n",
            "Collecting click-plugins>=1.0\n",
            "  Downloading https://files.pythonhosted.org/packages/e9/da/824b92d9942f4e472702488857914bdd50f73021efea15b4cad9aca8ecef/click_plugins-1.1.1-py2.py3-none-any.whl\n",
            "Collecting munch\n",
            "  Downloading https://files.pythonhosted.org/packages/cc/ab/85d8da5c9a45e072301beb37ad7f833cd344e04c817d97e0cc75681d248f/munch-2.5.0-py2.py3-none-any.whl\n",
            "Requirement already satisfied: six>=1.7 in /usr/local/lib/python3.6/dist-packages (from fiona->geopandas) (1.15.0)\n",
            "Collecting cligj>=0.5\n",
            "  Downloading https://files.pythonhosted.org/packages/42/1e/947eadf10d6804bf276eb8a038bd5307996dceaaa41cfd21b7a15ec62f5d/cligj-0.7.1-py3-none-any.whl\n",
            "Requirement already satisfied: click<8,>=4.0 in /usr/local/lib/python3.6/dist-packages (from fiona->geopandas) (7.1.2)\n",
            "Requirement already satisfied: attrs>=17 in /usr/local/lib/python3.6/dist-packages (from fiona->geopandas) (20.3.0)\n",
            "Requirement already satisfied: certifi in /usr/local/lib/python3.6/dist-packages (from fiona->geopandas) (2020.12.5)\n",
            "Installing collected packages: click-plugins, munch, cligj, fiona, pyproj, geopandas\n",
            "Successfully installed click-plugins-1.1.1 cligj-0.7.1 fiona-1.8.18 geopandas-0.8.1 munch-2.5.0 pyproj-3.0.0.post1\n",
            "Drive already mounted at /content/drive; to attempt to forcibly remount, call drive.mount(\"/content/drive\", force_remount=True).\n"
          ],
          "name": "stdout"
        },
        {
          "output_type": "stream",
          "text": [
            "/usr/local/lib/python3.6/dist-packages/ipykernel_launcher.py:11: TqdmDeprecationWarning: This function will be removed in tqdm==5.0.0\n",
            "Please use `tqdm.notebook.*` instead of `tqdm._tqdm_notebook.*`\n",
            "  # This is added back by InteractiveShellApp.init_path()\n"
          ],
          "name": "stderr"
        }
      ]
    },
    {
      "cell_type": "code",
      "metadata": {
        "id": "Kq8-XYGRP7SS"
      },
      "source": [
        ""
      ],
      "execution_count": null,
      "outputs": []
    }
  ]
}