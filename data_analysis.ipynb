{
  "nbformat": 4,
  "nbformat_minor": 0,
  "metadata": {
    "kernelspec": {
      "display_name": "Python [conda env:recommender] *",
      "language": "python",
      "name": "conda-env-recommender-py"
    },
    "language_info": {
      "codemirror_mode": {
        "name": "ipython",
        "version": 3
      },
      "file_extension": ".py",
      "mimetype": "text/x-python",
      "name": "python",
      "nbconvert_exporter": "python",
      "pygments_lexer": "ipython3",
      "version": "3.9.1"
    },
    "colab": {
      "name": "data_analysis.ipynb",
      "provenance": [],
      "machine_shape": "hm"
    },
    "accelerator": "GPU",
    "widgets": {
      "application/vnd.jupyter.widget-state+json": {
        "affb2fa176e04ff4a905352a47c8f0d3": {
          "model_module": "@jupyter-widgets/controls",
          "model_name": "HBoxModel",
          "state": {
            "_view_name": "HBoxView",
            "_dom_classes": [],
            "_model_name": "HBoxModel",
            "_view_module": "@jupyter-widgets/controls",
            "_model_module_version": "1.5.0",
            "_view_count": null,
            "_view_module_version": "1.5.0",
            "box_style": "",
            "layout": "IPY_MODEL_f0d6a52e502848bf9711513de983a8a5",
            "_model_module": "@jupyter-widgets/controls",
            "children": [
              "IPY_MODEL_d540321577324d799c980a1cc8f69947",
              "IPY_MODEL_74506ceef2fd4b80b3e76f62812ef6d1"
            ]
          }
        },
        "f0d6a52e502848bf9711513de983a8a5": {
          "model_module": "@jupyter-widgets/base",
          "model_name": "LayoutModel",
          "state": {
            "_view_name": "LayoutView",
            "grid_template_rows": null,
            "right": null,
            "justify_content": null,
            "_view_module": "@jupyter-widgets/base",
            "overflow": null,
            "_model_module_version": "1.2.0",
            "_view_count": null,
            "flex_flow": null,
            "width": null,
            "min_width": null,
            "border": null,
            "align_items": null,
            "bottom": null,
            "_model_module": "@jupyter-widgets/base",
            "top": null,
            "grid_column": null,
            "overflow_y": null,
            "overflow_x": null,
            "grid_auto_flow": null,
            "grid_area": null,
            "grid_template_columns": null,
            "flex": null,
            "_model_name": "LayoutModel",
            "justify_items": null,
            "grid_row": null,
            "max_height": null,
            "align_content": null,
            "visibility": null,
            "align_self": null,
            "height": null,
            "min_height": null,
            "padding": null,
            "grid_auto_rows": null,
            "grid_gap": null,
            "max_width": null,
            "order": null,
            "_view_module_version": "1.2.0",
            "grid_template_areas": null,
            "object_position": null,
            "object_fit": null,
            "grid_auto_columns": null,
            "margin": null,
            "display": null,
            "left": null
          }
        },
        "d540321577324d799c980a1cc8f69947": {
          "model_module": "@jupyter-widgets/controls",
          "model_name": "FloatProgressModel",
          "state": {
            "_view_name": "ProgressView",
            "style": "IPY_MODEL_49a97f72183b46a1a888ba090a3e68ca",
            "_dom_classes": [],
            "description": "100%",
            "_model_name": "FloatProgressModel",
            "bar_style": "success",
            "max": 7,
            "_view_module": "@jupyter-widgets/controls",
            "_model_module_version": "1.5.0",
            "value": 7,
            "_view_count": null,
            "_view_module_version": "1.5.0",
            "orientation": "horizontal",
            "min": 0,
            "description_tooltip": null,
            "_model_module": "@jupyter-widgets/controls",
            "layout": "IPY_MODEL_577563fa796e4684a114f5b0f081af71"
          }
        },
        "74506ceef2fd4b80b3e76f62812ef6d1": {
          "model_module": "@jupyter-widgets/controls",
          "model_name": "HTMLModel",
          "state": {
            "_view_name": "HTMLView",
            "style": "IPY_MODEL_50c47d97d3954c00a9757894fb0d22e7",
            "_dom_classes": [],
            "description": "",
            "_model_name": "HTMLModel",
            "placeholder": "​",
            "_view_module": "@jupyter-widgets/controls",
            "_model_module_version": "1.5.0",
            "value": " 7/7 [00:44&lt;00:00,  6.31s/it]",
            "_view_count": null,
            "_view_module_version": "1.5.0",
            "description_tooltip": null,
            "_model_module": "@jupyter-widgets/controls",
            "layout": "IPY_MODEL_474b8795c8a043c39b8542002fffa99b"
          }
        },
        "49a97f72183b46a1a888ba090a3e68ca": {
          "model_module": "@jupyter-widgets/controls",
          "model_name": "ProgressStyleModel",
          "state": {
            "_view_name": "StyleView",
            "_model_name": "ProgressStyleModel",
            "description_width": "initial",
            "_view_module": "@jupyter-widgets/base",
            "_model_module_version": "1.5.0",
            "_view_count": null,
            "_view_module_version": "1.2.0",
            "bar_color": null,
            "_model_module": "@jupyter-widgets/controls"
          }
        },
        "577563fa796e4684a114f5b0f081af71": {
          "model_module": "@jupyter-widgets/base",
          "model_name": "LayoutModel",
          "state": {
            "_view_name": "LayoutView",
            "grid_template_rows": null,
            "right": null,
            "justify_content": null,
            "_view_module": "@jupyter-widgets/base",
            "overflow": null,
            "_model_module_version": "1.2.0",
            "_view_count": null,
            "flex_flow": null,
            "width": null,
            "min_width": null,
            "border": null,
            "align_items": null,
            "bottom": null,
            "_model_module": "@jupyter-widgets/base",
            "top": null,
            "grid_column": null,
            "overflow_y": null,
            "overflow_x": null,
            "grid_auto_flow": null,
            "grid_area": null,
            "grid_template_columns": null,
            "flex": null,
            "_model_name": "LayoutModel",
            "justify_items": null,
            "grid_row": null,
            "max_height": null,
            "align_content": null,
            "visibility": null,
            "align_self": null,
            "height": null,
            "min_height": null,
            "padding": null,
            "grid_auto_rows": null,
            "grid_gap": null,
            "max_width": null,
            "order": null,
            "_view_module_version": "1.2.0",
            "grid_template_areas": null,
            "object_position": null,
            "object_fit": null,
            "grid_auto_columns": null,
            "margin": null,
            "display": null,
            "left": null
          }
        },
        "50c47d97d3954c00a9757894fb0d22e7": {
          "model_module": "@jupyter-widgets/controls",
          "model_name": "DescriptionStyleModel",
          "state": {
            "_view_name": "StyleView",
            "_model_name": "DescriptionStyleModel",
            "description_width": "",
            "_view_module": "@jupyter-widgets/base",
            "_model_module_version": "1.5.0",
            "_view_count": null,
            "_view_module_version": "1.2.0",
            "_model_module": "@jupyter-widgets/controls"
          }
        },
        "474b8795c8a043c39b8542002fffa99b": {
          "model_module": "@jupyter-widgets/base",
          "model_name": "LayoutModel",
          "state": {
            "_view_name": "LayoutView",
            "grid_template_rows": null,
            "right": null,
            "justify_content": null,
            "_view_module": "@jupyter-widgets/base",
            "overflow": null,
            "_model_module_version": "1.2.0",
            "_view_count": null,
            "flex_flow": null,
            "width": null,
            "min_width": null,
            "border": null,
            "align_items": null,
            "bottom": null,
            "_model_module": "@jupyter-widgets/base",
            "top": null,
            "grid_column": null,
            "overflow_y": null,
            "overflow_x": null,
            "grid_auto_flow": null,
            "grid_area": null,
            "grid_template_columns": null,
            "flex": null,
            "_model_name": "LayoutModel",
            "justify_items": null,
            "grid_row": null,
            "max_height": null,
            "align_content": null,
            "visibility": null,
            "align_self": null,
            "height": null,
            "min_height": null,
            "padding": null,
            "grid_auto_rows": null,
            "grid_gap": null,
            "max_width": null,
            "order": null,
            "_view_module_version": "1.2.0",
            "grid_template_areas": null,
            "object_position": null,
            "object_fit": null,
            "grid_auto_columns": null,
            "margin": null,
            "display": null,
            "left": null
          }
        }
      }
    }
  },
  "cells": [
    {
      "cell_type": "code",
      "metadata": {
        "id": "yZxU2QPQQDun"
      },
      "source": [
        "### Imports"
      ],
      "execution_count": 2,
      "outputs": []
    },
    {
      "cell_type": "code",
      "metadata": {
        "colab": {
          "base_uri": "https://localhost:8080/"
        },
        "id": "h2BS31eqP7SK",
        "outputId": "ab22ceb8-3b21-42a2-bcdd-add5f676dd32"
      },
      "source": [
        "import pandas as pd\r\n",
        "pd.set_option('display.max_columns', 500)\r\n",
        "\r\n",
        "!pip install geopandas\r\n",
        "import geopandas as gpd\r\n",
        "import seaborn as sns\r\n",
        "from matplotlib import pyplot as plt\r\n",
        "import numpy as np\r\n",
        "from google.colab import drive\r\n",
        "drive.mount('/content/drive')\r\n",
        "from tqdm._tqdm_notebook import tqdm_notebook\r\n",
        "tqdm_notebook.pandas()"
      ],
      "execution_count": 1,
      "outputs": [
        {
          "output_type": "stream",
          "text": [
            "Collecting geopandas\n",
            "\u001b[?25l  Downloading https://files.pythonhosted.org/packages/f7/a4/e66aafbefcbb717813bf3a355c8c4fc3ed04ea1dd7feb2920f2f4f868921/geopandas-0.8.1-py2.py3-none-any.whl (962kB)\n",
            "\r\u001b[K     |▍                               | 10kB 25.2MB/s eta 0:00:01\r\u001b[K     |▊                               | 20kB 16.2MB/s eta 0:00:01\r\u001b[K     |█                               | 30kB 13.7MB/s eta 0:00:01\r\u001b[K     |█▍                              | 40kB 12.7MB/s eta 0:00:01\r\u001b[K     |█▊                              | 51kB 9.0MB/s eta 0:00:01\r\u001b[K     |██                              | 61kB 8.3MB/s eta 0:00:01\r\u001b[K     |██▍                             | 71kB 9.5MB/s eta 0:00:01\r\u001b[K     |██▊                             | 81kB 10.5MB/s eta 0:00:01\r\u001b[K     |███                             | 92kB 9.4MB/s eta 0:00:01\r\u001b[K     |███▍                            | 102kB 8.8MB/s eta 0:00:01\r\u001b[K     |███▊                            | 112kB 8.8MB/s eta 0:00:01\r\u001b[K     |████                            | 122kB 8.8MB/s eta 0:00:01\r\u001b[K     |████▍                           | 133kB 8.8MB/s eta 0:00:01\r\u001b[K     |████▊                           | 143kB 8.8MB/s eta 0:00:01\r\u001b[K     |█████                           | 153kB 8.8MB/s eta 0:00:01\r\u001b[K     |█████▌                          | 163kB 8.8MB/s eta 0:00:01\r\u001b[K     |█████▉                          | 174kB 8.8MB/s eta 0:00:01\r\u001b[K     |██████▏                         | 184kB 8.8MB/s eta 0:00:01\r\u001b[K     |██████▌                         | 194kB 8.8MB/s eta 0:00:01\r\u001b[K     |██████▉                         | 204kB 8.8MB/s eta 0:00:01\r\u001b[K     |███████▏                        | 215kB 8.8MB/s eta 0:00:01\r\u001b[K     |███████▌                        | 225kB 8.8MB/s eta 0:00:01\r\u001b[K     |███████▉                        | 235kB 8.8MB/s eta 0:00:01\r\u001b[K     |████████▏                       | 245kB 8.8MB/s eta 0:00:01\r\u001b[K     |████████▌                       | 256kB 8.8MB/s eta 0:00:01\r\u001b[K     |████████▉                       | 266kB 8.8MB/s eta 0:00:01\r\u001b[K     |█████████▏                      | 276kB 8.8MB/s eta 0:00:01\r\u001b[K     |█████████▌                      | 286kB 8.8MB/s eta 0:00:01\r\u001b[K     |█████████▉                      | 296kB 8.8MB/s eta 0:00:01\r\u001b[K     |██████████▏                     | 307kB 8.8MB/s eta 0:00:01\r\u001b[K     |██████████▌                     | 317kB 8.8MB/s eta 0:00:01\r\u001b[K     |███████████                     | 327kB 8.8MB/s eta 0:00:01\r\u001b[K     |███████████▎                    | 337kB 8.8MB/s eta 0:00:01\r\u001b[K     |███████████▋                    | 348kB 8.8MB/s eta 0:00:01\r\u001b[K     |████████████                    | 358kB 8.8MB/s eta 0:00:01\r\u001b[K     |████████████▎                   | 368kB 8.8MB/s eta 0:00:01\r\u001b[K     |████████████▋                   | 378kB 8.8MB/s eta 0:00:01\r\u001b[K     |█████████████                   | 389kB 8.8MB/s eta 0:00:01\r\u001b[K     |█████████████▎                  | 399kB 8.8MB/s eta 0:00:01\r\u001b[K     |█████████████▋                  | 409kB 8.8MB/s eta 0:00:01\r\u001b[K     |██████████████                  | 419kB 8.8MB/s eta 0:00:01\r\u001b[K     |██████████████▎                 | 430kB 8.8MB/s eta 0:00:01\r\u001b[K     |██████████████▋                 | 440kB 8.8MB/s eta 0:00:01\r\u001b[K     |███████████████                 | 450kB 8.8MB/s eta 0:00:01\r\u001b[K     |███████████████▎                | 460kB 8.8MB/s eta 0:00:01\r\u001b[K     |███████████████▋                | 471kB 8.8MB/s eta 0:00:01\r\u001b[K     |████████████████                | 481kB 8.8MB/s eta 0:00:01\r\u001b[K     |████████████████▍               | 491kB 8.8MB/s eta 0:00:01\r\u001b[K     |████████████████▊               | 501kB 8.8MB/s eta 0:00:01\r\u001b[K     |█████████████████               | 512kB 8.8MB/s eta 0:00:01\r\u001b[K     |█████████████████▍              | 522kB 8.8MB/s eta 0:00:01\r\u001b[K     |█████████████████▊              | 532kB 8.8MB/s eta 0:00:01\r\u001b[K     |██████████████████              | 542kB 8.8MB/s eta 0:00:01\r\u001b[K     |██████████████████▍             | 552kB 8.8MB/s eta 0:00:01\r\u001b[K     |██████████████████▊             | 563kB 8.8MB/s eta 0:00:01\r\u001b[K     |███████████████████             | 573kB 8.8MB/s eta 0:00:01\r\u001b[K     |███████████████████▍            | 583kB 8.8MB/s eta 0:00:01\r\u001b[K     |███████████████████▊            | 593kB 8.8MB/s eta 0:00:01\r\u001b[K     |████████████████████            | 604kB 8.8MB/s eta 0:00:01\r\u001b[K     |████████████████████▍           | 614kB 8.8MB/s eta 0:00:01\r\u001b[K     |████████████████████▊           | 624kB 8.8MB/s eta 0:00:01\r\u001b[K     |█████████████████████           | 634kB 8.8MB/s eta 0:00:01\r\u001b[K     |█████████████████████▍          | 645kB 8.8MB/s eta 0:00:01\r\u001b[K     |█████████████████████▉          | 655kB 8.8MB/s eta 0:00:01\r\u001b[K     |██████████████████████▏         | 665kB 8.8MB/s eta 0:00:01\r\u001b[K     |██████████████████████▌         | 675kB 8.8MB/s eta 0:00:01\r\u001b[K     |██████████████████████▉         | 686kB 8.8MB/s eta 0:00:01\r\u001b[K     |███████████████████████▏        | 696kB 8.8MB/s eta 0:00:01\r\u001b[K     |███████████████████████▌        | 706kB 8.8MB/s eta 0:00:01\r\u001b[K     |███████████████████████▉        | 716kB 8.8MB/s eta 0:00:01\r\u001b[K     |████████████████████████▏       | 727kB 8.8MB/s eta 0:00:01\r\u001b[K     |████████████████████████▌       | 737kB 8.8MB/s eta 0:00:01\r\u001b[K     |████████████████████████▉       | 747kB 8.8MB/s eta 0:00:01\r\u001b[K     |█████████████████████████▏      | 757kB 8.8MB/s eta 0:00:01\r\u001b[K     |█████████████████████████▌      | 768kB 8.8MB/s eta 0:00:01\r\u001b[K     |█████████████████████████▉      | 778kB 8.8MB/s eta 0:00:01\r\u001b[K     |██████████████████████████▏     | 788kB 8.8MB/s eta 0:00:01\r\u001b[K     |██████████████████████████▌     | 798kB 8.8MB/s eta 0:00:01\r\u001b[K     |██████████████████████████▉     | 808kB 8.8MB/s eta 0:00:01\r\u001b[K     |███████████████████████████▎    | 819kB 8.8MB/s eta 0:00:01\r\u001b[K     |███████████████████████████▋    | 829kB 8.8MB/s eta 0:00:01\r\u001b[K     |████████████████████████████    | 839kB 8.8MB/s eta 0:00:01\r\u001b[K     |████████████████████████████▎   | 849kB 8.8MB/s eta 0:00:01\r\u001b[K     |████████████████████████████▋   | 860kB 8.8MB/s eta 0:00:01\r\u001b[K     |█████████████████████████████   | 870kB 8.8MB/s eta 0:00:01\r\u001b[K     |█████████████████████████████▎  | 880kB 8.8MB/s eta 0:00:01\r\u001b[K     |█████████████████████████████▋  | 890kB 8.8MB/s eta 0:00:01\r\u001b[K     |██████████████████████████████  | 901kB 8.8MB/s eta 0:00:01\r\u001b[K     |██████████████████████████████▎ | 911kB 8.8MB/s eta 0:00:01\r\u001b[K     |██████████████████████████████▋ | 921kB 8.8MB/s eta 0:00:01\r\u001b[K     |███████████████████████████████ | 931kB 8.8MB/s eta 0:00:01\r\u001b[K     |███████████████████████████████▎| 942kB 8.8MB/s eta 0:00:01\r\u001b[K     |███████████████████████████████▋| 952kB 8.8MB/s eta 0:00:01\r\u001b[K     |████████████████████████████████| 962kB 8.8MB/s eta 0:00:01\r\u001b[K     |████████████████████████████████| 972kB 8.8MB/s \n",
            "\u001b[?25hRequirement already satisfied: pandas>=0.23.0 in /usr/local/lib/python3.6/dist-packages (from geopandas) (1.1.5)\n",
            "Collecting fiona\n",
            "\u001b[?25l  Downloading https://files.pythonhosted.org/packages/37/94/4910fd55246c1d963727b03885ead6ef1cd3748a465f7b0239ab25dfc9a3/Fiona-1.8.18-cp36-cp36m-manylinux1_x86_64.whl (14.8MB)\n",
            "\u001b[K     |████████████████████████████████| 14.8MB 374kB/s \n",
            "\u001b[?25hRequirement already satisfied: shapely in /usr/local/lib/python3.6/dist-packages (from geopandas) (1.7.1)\n",
            "Collecting pyproj>=2.2.0\n",
            "\u001b[?25l  Downloading https://files.pythonhosted.org/packages/e4/ab/280e80a67cfc109d15428c0ec56391fc03a65857b7727cf4e6e6f99a4204/pyproj-3.0.0.post1-cp36-cp36m-manylinux2010_x86_64.whl (6.4MB)\n",
            "\u001b[K     |████████████████████████████████| 6.5MB 72.8MB/s \n",
            "\u001b[?25hRequirement already satisfied: python-dateutil>=2.7.3 in /usr/local/lib/python3.6/dist-packages (from pandas>=0.23.0->geopandas) (2.8.1)\n",
            "Requirement already satisfied: numpy>=1.15.4 in /usr/local/lib/python3.6/dist-packages (from pandas>=0.23.0->geopandas) (1.19.5)\n",
            "Requirement already satisfied: pytz>=2017.2 in /usr/local/lib/python3.6/dist-packages (from pandas>=0.23.0->geopandas) (2018.9)\n",
            "Collecting click-plugins>=1.0\n",
            "  Downloading https://files.pythonhosted.org/packages/e9/da/824b92d9942f4e472702488857914bdd50f73021efea15b4cad9aca8ecef/click_plugins-1.1.1-py2.py3-none-any.whl\n",
            "Collecting munch\n",
            "  Downloading https://files.pythonhosted.org/packages/cc/ab/85d8da5c9a45e072301beb37ad7f833cd344e04c817d97e0cc75681d248f/munch-2.5.0-py2.py3-none-any.whl\n",
            "Requirement already satisfied: six>=1.7 in /usr/local/lib/python3.6/dist-packages (from fiona->geopandas) (1.15.0)\n",
            "Collecting cligj>=0.5\n",
            "  Downloading https://files.pythonhosted.org/packages/42/1e/947eadf10d6804bf276eb8a038bd5307996dceaaa41cfd21b7a15ec62f5d/cligj-0.7.1-py3-none-any.whl\n",
            "Requirement already satisfied: click<8,>=4.0 in /usr/local/lib/python3.6/dist-packages (from fiona->geopandas) (7.1.2)\n",
            "Requirement already satisfied: attrs>=17 in /usr/local/lib/python3.6/dist-packages (from fiona->geopandas) (20.3.0)\n",
            "Requirement already satisfied: certifi in /usr/local/lib/python3.6/dist-packages (from fiona->geopandas) (2020.12.5)\n",
            "Installing collected packages: click-plugins, munch, cligj, fiona, pyproj, geopandas\n",
            "Successfully installed click-plugins-1.1.1 cligj-0.7.1 fiona-1.8.18 geopandas-0.8.1 munch-2.5.0 pyproj-3.0.0.post1\n",
            "Drive already mounted at /content/drive; to attempt to forcibly remount, call drive.mount(\"/content/drive\", force_remount=True).\n"
          ],
          "name": "stdout"
        },
        {
          "output_type": "stream",
          "text": [
            "/usr/local/lib/python3.6/dist-packages/ipykernel_launcher.py:11: TqdmDeprecationWarning: This function will be removed in tqdm==5.0.0\n",
            "Please use `tqdm.notebook.*` instead of `tqdm._tqdm_notebook.*`\n",
            "  # This is added back by InteractiveShellApp.init_path()\n"
          ],
          "name": "stderr"
        }
      ]
    },
    {
      "cell_type": "code",
      "metadata": {
        "id": "Kq8-XYGRP7SS"
      },
      "source": [
        "TRAIN_PATH = 'drive/My Drive/nyc_crime_project/nyc_crime_data.csv'\r\n",
        "chunksize = 1_000_000 # 5 million rows at one go. Or try 10 million"
      ],
      "execution_count": 4,
      "outputs": []
    },
    {
      "cell_type": "code",
      "metadata": {
        "id": "yTp67_qeQXhK",
        "outputId": "a8c132a1-27f5-4e51-edb3-a3f0f4e82124",
        "colab": {
          "base_uri": "https://localhost:8080/",
          "height": 965,
          "referenced_widgets": [
            "affb2fa176e04ff4a905352a47c8f0d3",
            "f0d6a52e502848bf9711513de983a8a5",
            "d540321577324d799c980a1cc8f69947",
            "74506ceef2fd4b80b3e76f62812ef6d1",
            "49a97f72183b46a1a888ba090a3e68ca",
            "577563fa796e4684a114f5b0f081af71",
            "50c47d97d3954c00a9757894fb0d22e7",
            "474b8795c8a043c39b8542002fffa99b"
          ]
        }
      },
      "source": [
        "%%time\r\n",
        "df_list = [] # list to hold the batch dataframe\r\n",
        "\r\n",
        "for df_chunk in tqdm_notebook(pd.read_csv(TRAIN_PATH, chunksize=chunksize, index_col=0), total=7):\r\n",
        "  df_list.append(df_chunk) \r\n",
        "\r\n",
        "# Merge all dataframes into one dataframe\r\n",
        "train_df = pd.concat(df_list)\r\n",
        "\r\n",
        "# Delete the dataframe list to release memory\r\n",
        "del df_list\r\n",
        "\r\n",
        "# See what we have loaded\r\n",
        "train_df.info()"
      ],
      "execution_count": 5,
      "outputs": [
        {
          "output_type": "display_data",
          "data": {
            "application/vnd.jupyter.widget-view+json": {
              "model_id": "affb2fa176e04ff4a905352a47c8f0d3",
              "version_minor": 0,
              "version_major": 2
            },
            "text/plain": [
              "HBox(children=(FloatProgress(value=0.0, max=7.0), HTML(value='')))"
            ]
          },
          "metadata": {
            "tags": []
          }
        },
        {
          "output_type": "stream",
          "text": [
            "/usr/local/lib/python3.6/dist-packages/IPython/core/magics/execution.py:1193: DtypeWarning: Columns (19) have mixed types.Specify dtype option on import or set low_memory=False.\n",
            "  exec(code, glob, local_ns)\n",
            "/usr/local/lib/python3.6/dist-packages/IPython/core/magics/execution.py:1193: DtypeWarning: Columns (19,21) have mixed types.Specify dtype option on import or set low_memory=False.\n",
            "  exec(code, glob, local_ns)\n",
            "/usr/local/lib/python3.6/dist-packages/IPython/core/magics/execution.py:1193: DtypeWarning: Columns (21) have mixed types.Specify dtype option on import or set low_memory=False.\n",
            "  exec(code, glob, local_ns)\n"
          ],
          "name": "stderr"
        },
        {
          "output_type": "stream",
          "text": [
            "\n",
            "<class 'pandas.core.frame.DataFrame'>\n",
            "Int64Index: 6942170 entries, 0 to 6942169\n",
            "Data columns (total 39 columns):\n",
            " #   Column             Dtype  \n",
            "---  ------             -----  \n",
            " 0   CMPLNT_NUM         int64  \n",
            " 1   CMPLNT_FR_DT       object \n",
            " 2   CMPLNT_FR_TM       object \n",
            " 3   CMPLNT_TO_DT       object \n",
            " 4   CMPLNT_TO_TM       object \n",
            " 5   ADDR_PCT_CD        float64\n",
            " 6   RPT_DT             object \n",
            " 7   KY_CD              int64  \n",
            " 8   OFNS_DESC          object \n",
            " 9   PD_CD              float64\n",
            " 10  PD_DESC            object \n",
            " 11  CRM_ATPT_CPTD_CD   object \n",
            " 12  LAW_CAT_CD         object \n",
            " 13  BORO_NM            object \n",
            " 14  LOC_OF_OCCUR_DESC  object \n",
            " 15  PREM_TYP_DESC      object \n",
            " 16  JURIS_DESC         object \n",
            " 17  JURISDICTION_CODE  float64\n",
            " 18  PARKS_NM           object \n",
            " 19  HADEVELOPT         object \n",
            " 20  HOUSING_PSA        object \n",
            " 21  X_COORD_CD         float64\n",
            " 22  Y_COORD_CD         float64\n",
            " 23  SUSP_AGE_GROUP     object \n",
            " 24  SUSP_RACE          object \n",
            " 25  SUSP_SEX           object \n",
            " 26  TRANSIT_DISTRICT   float64\n",
            " 27  Latitude           float64\n",
            " 28  Longitude          float64\n",
            " 29  Lat_Lon            object \n",
            " 30  PATROL_BORO        object \n",
            " 31  STATION_NAME       object \n",
            " 32  VIC_AGE_GROUP      object \n",
            " 33  VIC_RACE           object \n",
            " 34  VIC_SEX            object \n",
            " 35  geom               object \n",
            " 36  in_ny              bool   \n",
            " 37  New_X_Coor         int64  \n",
            " 38  New_Y_Coor         int64  \n",
            "dtypes: bool(1), float64(8), int64(4), object(26)\n",
            "memory usage: 2.0+ GB\n",
            "CPU times: user 42 s, sys: 3.91 s, total: 45.9 s\n",
            "Wall time: 49 s\n"
          ],
          "name": "stdout"
        }
      ]
    },
    {
      "cell_type": "code",
      "metadata": {
        "id": "Ij5Cpdi0Qa4I"
      },
      "source": [
        ""
      ],
      "execution_count": null,
      "outputs": []
    }
  ]
}